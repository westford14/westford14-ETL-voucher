{
 "cells": [
  {
   "cell_type": "code",
   "execution_count": 24,
   "id": "43a63a2f-9d04-4521-b46b-45f48dd6f47e",
   "metadata": {},
   "outputs": [],
   "source": [
    "import json\n",
    "from datetime import datetime\n",
    "\n",
    "import numpy as np\n",
    "import pandas as pd \n",
    "import matplotlib.pyplot as plt "
   ]
  },
  {
   "cell_type": "code",
   "execution_count": 25,
   "id": "7300c59f-4a5c-4170-85d6-7383c903d855",
   "metadata": {},
   "outputs": [
    {
     "name": "stdout",
     "output_type": "stream",
     "text": [
      "/Users/alee/Desktop/westford14-ETL-voucher/data\n"
     ]
    }
   ],
   "source": [
    "%cd ../data\n",
    "np.random.seed(42)"
   ]
  },
  {
   "cell_type": "markdown",
   "id": "626483ea-c84a-42ff-9eda-c0e2b2522a9c",
   "metadata": {},
   "source": [
    "### Initial Data Exploration"
   ]
  },
  {
   "cell_type": "code",
   "execution_count": 26,
   "id": "e5cad0eb-7b60-48b2-b9e5-c954b97ec951",
   "metadata": {},
   "outputs": [],
   "source": [
    "df = pd.read_parquet(\"data.parquet.gzip\")"
   ]
  },
  {
   "cell_type": "code",
   "execution_count": 27,
   "id": "3ad6a875-f970-4a4a-aba9-98521104c358",
   "metadata": {},
   "outputs": [
    {
     "data": {
      "text/html": [
       "<div>\n",
       "<style scoped>\n",
       "    .dataframe tbody tr th:only-of-type {\n",
       "        vertical-align: middle;\n",
       "    }\n",
       "\n",
       "    .dataframe tbody tr th {\n",
       "        vertical-align: top;\n",
       "    }\n",
       "\n",
       "    .dataframe thead th {\n",
       "        text-align: right;\n",
       "    }\n",
       "</style>\n",
       "<table border=\"1\" class=\"dataframe\">\n",
       "  <thead>\n",
       "    <tr style=\"text-align: right;\">\n",
       "      <th></th>\n",
       "      <th>timestamp</th>\n",
       "      <th>country_code</th>\n",
       "      <th>last_order_ts</th>\n",
       "      <th>first_order_ts</th>\n",
       "      <th>total_orders</th>\n",
       "      <th>voucher_amount</th>\n",
       "    </tr>\n",
       "  </thead>\n",
       "  <tbody>\n",
       "    <tr>\n",
       "      <th>0</th>\n",
       "      <td>2020-05-20 15:43:38.364972+00:00</td>\n",
       "      <td>China</td>\n",
       "      <td>2020-04-19 00:00:00+00:00</td>\n",
       "      <td>2020-04-18 00:00:00+00:00</td>\n",
       "      <td>0.0</td>\n",
       "      <td>5720.0</td>\n",
       "    </tr>\n",
       "    <tr>\n",
       "      <th>1</th>\n",
       "      <td>2020-05-20 15:43:47.914346+00:00</td>\n",
       "      <td>China</td>\n",
       "      <td>2020-04-19 00:00:00+00:00</td>\n",
       "      <td>2020-04-13 00:00:00+00:00</td>\n",
       "      <td>1.0</td>\n",
       "      <td>8800.0</td>\n",
       "    </tr>\n",
       "    <tr>\n",
       "      <th>2</th>\n",
       "      <td>2020-05-20 15:36:56.866239+00:00</td>\n",
       "      <td>China</td>\n",
       "      <td>2020-04-19 00:00:00+00:00</td>\n",
       "      <td>2020-04-15 00:00:00+00:00</td>\n",
       "      <td>0.0</td>\n",
       "      <td>1760.0</td>\n",
       "    </tr>\n",
       "    <tr>\n",
       "      <th>3</th>\n",
       "      <td>2020-05-20 15:00:33.694108+00:00</td>\n",
       "      <td>China</td>\n",
       "      <td>2020-04-19 00:00:00+00:00</td>\n",
       "      <td>2020-04-13 00:00:00+00:00</td>\n",
       "      <td></td>\n",
       "      <td>1760.0</td>\n",
       "    </tr>\n",
       "    <tr>\n",
       "      <th>4</th>\n",
       "      <td>2020-05-20 15:43:18.521402+00:00</td>\n",
       "      <td>China</td>\n",
       "      <td>2020-04-19 00:00:00+00:00</td>\n",
       "      <td>2020-04-14 00:00:00+00:00</td>\n",
       "      <td>3.0</td>\n",
       "      <td>8800.0</td>\n",
       "    </tr>\n",
       "  </tbody>\n",
       "</table>\n",
       "</div>"
      ],
      "text/plain": [
       "                          timestamp country_code              last_order_ts  \\\n",
       "0  2020-05-20 15:43:38.364972+00:00        China  2020-04-19 00:00:00+00:00   \n",
       "1  2020-05-20 15:43:47.914346+00:00        China  2020-04-19 00:00:00+00:00   \n",
       "2  2020-05-20 15:36:56.866239+00:00        China  2020-04-19 00:00:00+00:00   \n",
       "3  2020-05-20 15:00:33.694108+00:00        China  2020-04-19 00:00:00+00:00   \n",
       "4  2020-05-20 15:43:18.521402+00:00        China  2020-04-19 00:00:00+00:00   \n",
       "\n",
       "             first_order_ts total_orders  voucher_amount  \n",
       "0 2020-04-18 00:00:00+00:00          0.0          5720.0  \n",
       "1 2020-04-13 00:00:00+00:00          1.0          8800.0  \n",
       "2 2020-04-15 00:00:00+00:00          0.0          1760.0  \n",
       "3 2020-04-13 00:00:00+00:00                       1760.0  \n",
       "4 2020-04-14 00:00:00+00:00          3.0          8800.0  "
      ]
     },
     "execution_count": 27,
     "metadata": {},
     "output_type": "execute_result"
    }
   ],
   "source": [
    "df.head()"
   ]
  },
  {
   "cell_type": "markdown",
   "id": "db1a9243-ef75-410a-8a1a-1c61a800d794",
   "metadata": {},
   "source": [
    " Subset the data down to peru -- ensuring that all the \"Peru\" country codes are not mangled "
   ]
  },
  {
   "cell_type": "code",
   "execution_count": 28,
   "id": "5dcceacc-e99d-482d-9847-2c0a6624f1e5",
   "metadata": {},
   "outputs": [
    {
     "data": {
      "text/plain": [
       "China        169722\n",
       "Australia    134004\n",
       "Peru         106547\n",
       "Latvia       101154\n",
       "Name: country_code, dtype: int64"
      ]
     },
     "execution_count": 28,
     "metadata": {},
     "output_type": "execute_result"
    }
   ],
   "source": [
    "df['country_code'].value_counts() "
   ]
  },
  {
   "cell_type": "code",
   "execution_count": 29,
   "id": "4ec069c6-d111-4fae-8572-8f8ff0a41c8a",
   "metadata": {},
   "outputs": [
    {
     "data": {
      "text/html": [
       "<div>\n",
       "<style scoped>\n",
       "    .dataframe tbody tr th:only-of-type {\n",
       "        vertical-align: middle;\n",
       "    }\n",
       "\n",
       "    .dataframe tbody tr th {\n",
       "        vertical-align: top;\n",
       "    }\n",
       "\n",
       "    .dataframe thead th {\n",
       "        text-align: right;\n",
       "    }\n",
       "</style>\n",
       "<table border=\"1\" class=\"dataframe\">\n",
       "  <thead>\n",
       "    <tr style=\"text-align: right;\">\n",
       "      <th></th>\n",
       "      <th>timestamp</th>\n",
       "      <th>country_code</th>\n",
       "      <th>last_order_ts</th>\n",
       "      <th>first_order_ts</th>\n",
       "      <th>total_orders</th>\n",
       "      <th>voucher_amount</th>\n",
       "    </tr>\n",
       "  </thead>\n",
       "  <tbody>\n",
       "  </tbody>\n",
       "</table>\n",
       "</div>"
      ],
      "text/plain": [
       "Empty DataFrame\n",
       "Columns: [timestamp, country_code, last_order_ts, first_order_ts, total_orders, voucher_amount]\n",
       "Index: []"
      ]
     },
     "execution_count": 29,
     "metadata": {},
     "output_type": "execute_result"
    }
   ],
   "source": [
    "### no country codes are null -- can subset to just 'Peru'\n",
    "df[pd.isnull(df['country_code'])]"
   ]
  },
  {
   "cell_type": "code",
   "execution_count": 30,
   "id": "b7d338a3-6686-4f99-a32c-c5e0fa429fc6",
   "metadata": {},
   "outputs": [],
   "source": [
    "df = df[df['country_code'].isin(['Peru'])]"
   ]
  },
  {
   "cell_type": "code",
   "execution_count": 31,
   "id": "259d1b1e-a58d-4245-8b47-de8adb9d54ce",
   "metadata": {},
   "outputs": [
    {
     "name": "stdout",
     "output_type": "stream",
     "text": [
      "timestamp: null-values - 0\n",
      "country_code: null-values - 0\n",
      "last_order_ts: null-values - 0\n",
      "first_order_ts: null-values - 0\n",
      "total_orders: null-values - 0\n",
      "voucher_amount: null-values - 13950\n"
     ]
    }
   ],
   "source": [
    "for col in df.columns:\n",
    "    print(f\"{col}: null-values - {len(df[pd.isnull(df[col])])}\" )"
   ]
  },
  {
   "cell_type": "markdown",
   "id": "2e88a94f-569f-46a6-a1da-739bf7467e10",
   "metadata": {},
   "source": [
    "Based on above -- we will need to do the most amount of cleaning for nulls on the `voucher_amount` column"
   ]
  },
  {
   "cell_type": "code",
   "execution_count": 32,
   "id": "07eb8300-5c16-4d26-806c-7f18c5c6da06",
   "metadata": {},
   "outputs": [],
   "source": [
    "# there are ~9000 rows that don't have a total_orders value, so\n",
    "# for now, we are going to drop "
   ]
  },
  {
   "cell_type": "code",
   "execution_count": 33,
   "id": "02d155b6-0c05-415e-96e5-119c503031e8",
   "metadata": {},
   "outputs": [],
   "source": [
    "df = df[~df['total_orders'].isin([''])]"
   ]
  },
  {
   "cell_type": "code",
   "execution_count": 34,
   "id": "6ca6e5f2-d006-43ff-9538-ac4ce698afac",
   "metadata": {},
   "outputs": [],
   "source": [
    "# dropping the null voucher_amounts\n",
    "df = df[~pd.isnull(df['voucher_amount'])]"
   ]
  },
  {
   "cell_type": "code",
   "execution_count": 35,
   "id": "be3320cb-84d5-4639-8cd4-aeedb512c3b5",
   "metadata": {},
   "outputs": [
    {
     "data": {
      "text/plain": [
       "85150"
      ]
     },
     "execution_count": 35,
     "metadata": {},
     "output_type": "execute_result"
    }
   ],
   "source": [
    "len(df)"
   ]
  },
  {
   "cell_type": "markdown",
   "id": "9c5a199d-d2ae-4408-91d0-8d3f867810d6",
   "metadata": {
    "tags": []
   },
   "source": [
    "#### Creation of `frequent_segment`"
   ]
  },
  {
   "cell_type": "code",
   "execution_count": 36,
   "id": "bd43ebd2-d410-4d35-bf2b-cd0a9ff197fa",
   "metadata": {},
   "outputs": [],
   "source": [
    "df['total_orders'] = df['total_orders'].apply(float).apply(int)"
   ]
  },
  {
   "cell_type": "code",
   "execution_count": 37,
   "id": "dabd5968-7522-4bf2-97bf-bfc28c0d92e0",
   "metadata": {},
   "outputs": [],
   "source": [
    "def freq_segment(orders: int) -> str:\n",
    "    if orders < 4:\n",
    "        return \"0-4\"\n",
    "    elif orders < 13:\n",
    "        return \"5-13\"\n",
    "    elif orders < 37:\n",
    "        return \"13-37\"\n",
    "    else:\n",
    "        return np.nan"
   ]
  },
  {
   "cell_type": "code",
   "execution_count": 38,
   "id": "79176053-9703-45ac-b79a-8b16b6ef586b",
   "metadata": {},
   "outputs": [],
   "source": [
    "df['frequent_segment'] = df['total_orders'].apply(freq_segment)"
   ]
  },
  {
   "cell_type": "markdown",
   "id": "ce709a9e-2089-44df-b5fc-42f6a06ad8e1",
   "metadata": {},
   "source": [
    "#### Creation of `recency_segment`"
   ]
  },
  {
   "cell_type": "code",
   "execution_count": 39,
   "id": "a47648e6-4f22-4271-ae78-8c59e14d091a",
   "metadata": {},
   "outputs": [],
   "source": [
    "# cast to datetime \n",
    "df['timestamp'] = pd.to_datetime(df['timestamp'])\n",
    "df['last_order_ts'] = pd.to_datetime(df['last_order_ts'])"
   ]
  },
  {
   "cell_type": "code",
   "execution_count": 40,
   "id": "34544b8b-110d-4776-843f-8d957d65c7ef",
   "metadata": {},
   "outputs": [],
   "source": [
    "df['time_diff'] = (df['timestamp'] - df['last_order_ts']).astype('timedelta64[D]').apply(int)"
   ]
  },
  {
   "cell_type": "code",
   "execution_count": 41,
   "id": "bea1299f-3dd9-42a4-b266-50dfa2ac6785",
   "metadata": {},
   "outputs": [],
   "source": [
    "def rec_segment(days: float) -> str:\n",
    "    if days < 30:\n",
    "        return np.nan\n",
    "    elif days < 60: \n",
    "        return \"30-60\"\n",
    "    elif days < 90:\n",
    "        return \"60-90\"\n",
    "    elif days < 120:\n",
    "        return \"90-120\"\n",
    "    elif days < 180:\n",
    "        return \"120-180\"\n",
    "    else:\n",
    "        return \"180+\""
   ]
  },
  {
   "cell_type": "code",
   "execution_count": 42,
   "id": "80b2bda5-3350-4859-825d-e5cfd52cd8fd",
   "metadata": {},
   "outputs": [],
   "source": [
    "df['recency_segment'] = df['time_diff'].apply(rec_segment)"
   ]
  },
  {
   "cell_type": "markdown",
   "id": "fef15c32-5a36-4e00-b18e-456e44acdd90",
   "metadata": {},
   "source": [
    "#### Final Cleaning and Resultant Dict"
   ]
  },
  {
   "cell_type": "code",
   "execution_count": 43,
   "id": "83823794-9cbc-407e-a557-77ca38682421",
   "metadata": {},
   "outputs": [],
   "source": [
    "df = df[['voucher_amount', 'frequent_segment', 'recency_segment']]\n",
    "cleaned = df[~pd.isnull(df).any(axis=1)]"
   ]
  },
  {
   "cell_type": "code",
   "execution_count": 44,
   "id": "475bb001-77d9-4383-a59c-4bc3422bce47",
   "metadata": {},
   "outputs": [],
   "source": [
    "# find most used voucher per segment\n",
    "rec_seg = cleaned.groupby(['recency_segment'], as_index=False)['voucher_amount'].agg(lambda x: x.value_counts().index[0])\n",
    "freq_seg = cleaned.groupby(['frequent_segment'], as_index=False)['voucher_amount'].agg(lambda x: x.value_counts().index[0])"
   ]
  },
  {
   "cell_type": "code",
   "execution_count": 45,
   "id": "10a26328-825e-4afe-bcd4-3ca8dbc8aab7",
   "metadata": {},
   "outputs": [
    {
     "data": {
      "text/html": [
       "<div>\n",
       "<style scoped>\n",
       "    .dataframe tbody tr th:only-of-type {\n",
       "        vertical-align: middle;\n",
       "    }\n",
       "\n",
       "    .dataframe tbody tr th {\n",
       "        vertical-align: top;\n",
       "    }\n",
       "\n",
       "    .dataframe thead th {\n",
       "        text-align: right;\n",
       "    }\n",
       "</style>\n",
       "<table border=\"1\" class=\"dataframe\">\n",
       "  <thead>\n",
       "    <tr style=\"text-align: right;\">\n",
       "      <th></th>\n",
       "      <th>recency_segment</th>\n",
       "      <th>voucher_amount</th>\n",
       "    </tr>\n",
       "  </thead>\n",
       "  <tbody>\n",
       "    <tr>\n",
       "      <th>0</th>\n",
       "      <td>30-60</td>\n",
       "      <td>2640.0</td>\n",
       "    </tr>\n",
       "    <tr>\n",
       "      <th>1</th>\n",
       "      <td>90-120</td>\n",
       "      <td>2640.0</td>\n",
       "    </tr>\n",
       "  </tbody>\n",
       "</table>\n",
       "</div>"
      ],
      "text/plain": [
       "  recency_segment  voucher_amount\n",
       "0           30-60          2640.0\n",
       "1          90-120          2640.0"
      ]
     },
     "execution_count": 45,
     "metadata": {},
     "output_type": "execute_result"
    }
   ],
   "source": [
    "rec_seg"
   ]
  },
  {
   "cell_type": "code",
   "execution_count": 46,
   "id": "9b4cb7d5-5f00-4521-9aa3-5e649a867fe7",
   "metadata": {},
   "outputs": [
    {
     "data": {
      "text/html": [
       "<div>\n",
       "<style scoped>\n",
       "    .dataframe tbody tr th:only-of-type {\n",
       "        vertical-align: middle;\n",
       "    }\n",
       "\n",
       "    .dataframe tbody tr th {\n",
       "        vertical-align: top;\n",
       "    }\n",
       "\n",
       "    .dataframe thead th {\n",
       "        text-align: right;\n",
       "    }\n",
       "</style>\n",
       "<table border=\"1\" class=\"dataframe\">\n",
       "  <thead>\n",
       "    <tr style=\"text-align: right;\">\n",
       "      <th></th>\n",
       "      <th>frequent_segment</th>\n",
       "      <th>voucher_amount</th>\n",
       "    </tr>\n",
       "  </thead>\n",
       "  <tbody>\n",
       "    <tr>\n",
       "      <th>0</th>\n",
       "      <td>0-4</td>\n",
       "      <td>2640.0</td>\n",
       "    </tr>\n",
       "    <tr>\n",
       "      <th>1</th>\n",
       "      <td>13-37</td>\n",
       "      <td>2640.0</td>\n",
       "    </tr>\n",
       "    <tr>\n",
       "      <th>2</th>\n",
       "      <td>5-13</td>\n",
       "      <td>2640.0</td>\n",
       "    </tr>\n",
       "  </tbody>\n",
       "</table>\n",
       "</div>"
      ],
      "text/plain": [
       "  frequent_segment  voucher_amount\n",
       "0              0-4          2640.0\n",
       "1            13-37          2640.0\n",
       "2             5-13          2640.0"
      ]
     },
     "execution_count": 46,
     "metadata": {},
     "output_type": "execute_result"
    }
   ],
   "source": [
    "freq_seg"
   ]
  },
  {
   "cell_type": "markdown",
   "id": "22513be0-0d6f-4e62-b5e0-d70ff2a32eb6",
   "metadata": {},
   "source": [
    "#### Addition of Missing Groups"
   ]
  },
  {
   "cell_type": "code",
   "execution_count": 53,
   "id": "331d60c3-c526-44e9-b9a5-7d10a79f384c",
   "metadata": {},
   "outputs": [],
   "source": [
    "freq_dict = freq_seg.set_index('frequent_segment').to_dict()['voucher_amount']\n",
    "for x in ['0-4', '5-13', '13-37']:\n",
    "    if x not in freq_dict:\n",
    "        freq_dict[x] = 0"
   ]
  },
  {
   "cell_type": "code",
   "execution_count": 55,
   "id": "a5f6d703-b639-4480-b901-ad998a655c38",
   "metadata": {},
   "outputs": [],
   "source": [
    "with open(\"freq_segment.json\", \"w\") as f:\n",
    "    json.dump(freq_dict, f)"
   ]
  },
  {
   "cell_type": "code",
   "execution_count": 56,
   "id": "2ef7ebf9-5576-4344-9446-0029696804b5",
   "metadata": {},
   "outputs": [],
   "source": [
    "rec_dict = rec_seg.set_index('recency_segment').to_dict()['voucher_amount']\n",
    "for x in ['30-60', '60-90', '90-120', '120-180', '180+']:\n",
    "    if x not in rec_dict:\n",
    "        rec_dict[x] = 0"
   ]
  },
  {
   "cell_type": "code",
   "execution_count": 59,
   "id": "0eeae132-3939-4757-bd54-32ab1311db65",
   "metadata": {},
   "outputs": [],
   "source": [
    "with open(\"rec_segment.json\", \"w\") as f:\n",
    "    json.dump(rec_dict, f)"
   ]
  },
  {
   "cell_type": "code",
   "execution_count": null,
   "id": "a888aec4-faa9-402c-8f9f-8bf50b687865",
   "metadata": {},
   "outputs": [],
   "source": []
  }
 ],
 "metadata": {
  "kernelspec": {
   "display_name": "Python 3 (ipykernel)",
   "language": "python",
   "name": "python3"
  },
  "language_info": {
   "codemirror_mode": {
    "name": "ipython",
    "version": 3
   },
   "file_extension": ".py",
   "mimetype": "text/x-python",
   "name": "python",
   "nbconvert_exporter": "python",
   "pygments_lexer": "ipython3",
   "version": "3.7.10"
  }
 },
 "nbformat": 4,
 "nbformat_minor": 5
}
